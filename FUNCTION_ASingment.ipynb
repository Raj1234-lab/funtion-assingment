{
  "nbformat": 4,
  "nbformat_minor": 0,
  "metadata": {
    "colab": {
      "provenance": []
    },
    "kernelspec": {
      "name": "python3",
      "display_name": "Python 3"
    },
    "language_info": {
      "name": "python"
    }
  },
  "cells": [
    {
      "cell_type": "markdown",
      "source": [
        "#Theory question"
      ],
      "metadata": {
        "id": "3BgZXmbVRVcm"
      }
    },
    {
      "cell_type": "markdown",
      "source": [
        "#question1\n",
        "#>>what is the difference between a funtion and a method in python?\n",
        "#>>Method is called by its name, but it is associated to an object (dependent).A method definition always includes 'self' as its first parameter.while funtion is block of code that is also called by its name. (independent)he function can have different parameters or may not have any at all. If any data (parameters) are passed, they are passed explicitly.\n"
      ],
      "metadata": {
        "id": "5GVMbibLRum8"
      }
    },
    {
      "cell_type": "markdown",
      "source": [
        "#question2\n",
        "#>>explain the concept of funtion arguments and parameters in python.\n",
        "#>>Parameters are variables defined in a function declaration. This act as placeholders for the values (arguments) that will be passed to the function.\n",
        "\n",
        "#Arguments are the actual values that you pass to the function when you call it. These values replace the parameters defined in the function."
      ],
      "metadata": {
        "id": "BbSrrTE1S4fF"
      }
    },
    {
      "cell_type": "markdown",
      "source": [
        "#question3\n",
        "#>>what are the different ways to define and call a funtion in python?\n",
        "#>>definition: Define functions inside a class using self for instance methods.\n",
        "#Call: Use an instance of the class."
      ],
      "metadata": {
        "id": "Wjymf5GrT3ph"
      }
    },
    {
      "cell_type": "markdown",
      "source": [
        "#question4\n",
        "#>>What is the purpose of the 'return'statement in a python?\n",
        "#>>The Python return statement is a special statement that you can use inside a function or method to send the function’s result back to the caller."
      ],
      "metadata": {
        "id": "svwIYgd1Y_FU"
      }
    },
    {
      "cell_type": "markdown",
      "source": [
        "#question5\n",
        "#>>what are iterators in python and how do they differ fron iterables?\n",
        "#>>An iterable is like a collection of items (e.g., a list or string) that you can loop through.while An iterator is the mechanism that actually performs the iteration, fetching one item at a time."
      ],
      "metadata": {
        "id": "CLlh--mGUjEJ"
      }
    },
    {
      "cell_type": "markdown",
      "source": [
        "#question6\n",
        "#>>explain the concept of generators in python and how they are defined.\n",
        "#>>generators in Python are a special type of iterable, like lists or tuples, but they generate values on the fly and do not store them in memory. This makes them highly memory-efficient, especially when working with large datasets or infinite sequences."
      ],
      "metadata": {
        "id": "Dz9dAruKYr01"
      }
    },
    {
      "cell_type": "markdown",
      "source": [
        "#question7\n",
        "#>>what are the advantages of using generators over regular funtions?\n",
        "#>>Memory Consumption: Generators utilize a fraction of the memory compared to standard methods.\n",
        "#Execution Time: When dealing with extensive data processing, a generator can reduce wait time since it produces results on-the-fly.\n",
        "#State Management: Generators maintain the state of the last execution point, allowing for continuous iteration without requiring reinitialization."
      ],
      "metadata": {
        "id": "rVFYmdbiazun"
      }
    },
    {
      "cell_type": "markdown",
      "source": [
        "Q8.what is a lambda function in python and when is it typically used?\n",
        ">>Lambda Functions are anonymous functions means that the function is without a name. As we already know the def keyword is used to define a normal function in Python. Similarly, the lambda keyword is used to define an anonymous function in Python.\n",
        "#example:-"
      ],
      "metadata": {
        "id": "fkV7TSn3V-2p"
      }
    },
    {
      "cell_type": "code",
      "source": [
        "#example\n",
        "s1 = 'Raj chourasia'\n",
        "\n",
        "s2 = lambda func: func.upper()\n",
        "print(s2(s1))"
      ],
      "metadata": {
        "colab": {
          "base_uri": "https://localhost:8080/"
        },
        "id": "EcXcGykXXmz7",
        "outputId": "a0645bd7-6be7-4bf7-eead-b4a12c1353fd"
      },
      "execution_count": null,
      "outputs": [
        {
          "output_type": "stream",
          "name": "stdout",
          "text": [
            "RAJ CHOURASIA\n"
          ]
        }
      ]
    },
    {
      "cell_type": "markdown",
      "source": [
        "Q9.Explain the purpose and usage of the 'map()' functions in python.\n",
        ">>The map() function in Python applies a given function to each item of an iterable (like a list or tuple) and returns a map object (an iterator) containing the results. It offers a concise way to perform operations on sequences without explicit loops.\n",
        "ex= map(function, iterable, ...)"
      ],
      "metadata": {
        "id": "coWMVsmKX29N"
      }
    },
    {
      "cell_type": "markdown",
      "source": [
        "Q10.what is the difference between 'map()','reduce()',and'filter()'funtions in python?\n",
        ">>The map () function returns a map object(which is an iterator) of the results after applying the given function to each item of a given iterable (list, tuple, etc.).\n",
        "\n",
        "The reduce function is used to apply a particular function passed in its argument to all of the list elements mentioned in the sequence passed along.This function is defined in “functools” module.\n",
        "\n",
        "The filter() method filters the given sequence with the help of a function that tests each element in thuence to be true or not.\n"
      ],
      "metadata": {
        "id": "D2GJx0VyYsID"
      }
    },
    {
      "cell_type": "markdown",
      "source": [
        "Q10.using pen & paper write the internal mechanism for sum operation using reduce funtionon this given list:[47,11,42,13];\n",
        "\n",
        " 1. Initialization:\n",
        "The reduce function starts with the first two elements of the list (47 and 11).\n",
        "2. Iteration 1:\n",
        "The summation function adds these two numbers: 47 + 11 = 58. The result (58) becomes the accumulator, which will be used in the next iteration.\n",
        "3. Iteration 2:\n",
        "The accumulator (58) is combined with the next element in the list (42): 58 + 42 = 100. The accumulator is updated to 100.\n",
        "4. Iteration 3:\n",
        "The accumulator (100) is combined with the next element (13): 100 + 13 = 113. The accumulator is updated to 113.\n",
        "5. Final Result:113"
      ],
      "metadata": {
        "id": "scSB3pQpaMH1"
      }
    },
    {
      "cell_type": "code",
      "source": [
        "#Q1.write a python function that takes a list of numbers as input and return the sum of all even numbers in the list\n",
        "def sum_even_numbers(numbers):\n",
        "    sum = 0\n",
        "    for num in numbers:\n",
        "        if num % 2 == 0:\n",
        "            sum += num\n",
        "    return sum"
      ],
      "metadata": {
        "id": "lreKo_ngc8tb"
      },
      "execution_count": null,
      "outputs": []
    },
    {
      "cell_type": "code",
      "source": [
        "def reverse(str):\n",
        "  return str[::-1]\n",
        "reverse(\"raj chourasia\")"
      ],
      "metadata": {
        "colab": {
          "base_uri": "https://localhost:8080/",
          "height": 36
        },
        "id": "I_CGhnTgegLT",
        "outputId": "d4e44bdd-0ac7-4398-f843-f2ebf5afbd33"
      },
      "execution_count": null,
      "outputs": [
        {
          "output_type": "execute_result",
          "data": {
            "text/plain": [
              "'aisaruohc jar'"
            ],
            "application/vnd.google.colaboratory.intrinsic+json": {
              "type": "string"
            }
          },
          "metadata": {},
          "execution_count": 3
        }
      ]
    },
    {
      "cell_type": "code",
      "source": [
        "#Q3.Implement a python function that takes a list of integers and returns a new list containing square of each numbers\n",
        "number = [2,3,4,5]\n",
        "squared_numbers = [num ** 2 for num in numbers]\n",
        "print(squared_number\n"
      ],
      "metadata": {
        "id": "a2Y8HTtDgRfX"
      },
      "execution_count": null,
      "outputs": []
    },
    {
      "cell_type": "code",
      "source": [
        "#Q3.Implement a python function that takes a list of integers and returns a new list containing square of each numbers\n",
        "nums = [2,3,4,5]\n",
        "squared_numbers = list(map(lambda x: x**2, nums))\n",
        "print(squared_numbers)"
      ],
      "metadata": {
        "colab": {
          "base_uri": "https://localhost:8080/"
        },
        "id": "USG8tWb4jq3U",
        "outputId": "8921fde0-0e72-4ea0-9bd0-343b2796a951"
      },
      "execution_count": null,
      "outputs": [
        {
          "output_type": "stream",
          "name": "stdout",
          "text": [
            "[4, 9, 16, 25]\n"
          ]
        }
      ]
    },
    {
      "cell_type": "code",
      "source": [
        "#Q4.Write a python function that checks if a given numbers is a prime or not from 1 to 200\n",
        "def get_prime200():\n",
        "  for i in range(2,200+1):\n",
        "    for j in range(2,i):\n",
        "      if i%j==0:\n",
        "        break\n",
        "    else:\n",
        "      print(f\"the prime no is :\",i)\n",
        "get_prime200()\n",
        "\n"
      ],
      "metadata": {
        "colab": {
          "base_uri": "https://localhost:8080/"
        },
        "id": "ND6CqYJKl7U2",
        "outputId": "c7486762-130c-425c-c046-812412dd9569"
      },
      "execution_count": null,
      "outputs": [
        {
          "output_type": "stream",
          "name": "stdout",
          "text": [
            "the prime no is : 2\n",
            "the prime no is : 3\n",
            "the prime no is : 5\n",
            "the prime no is : 7\n",
            "the prime no is : 11\n",
            "the prime no is : 13\n",
            "the prime no is : 17\n",
            "the prime no is : 19\n",
            "the prime no is : 23\n",
            "the prime no is : 29\n",
            "the prime no is : 31\n",
            "the prime no is : 37\n",
            "the prime no is : 41\n",
            "the prime no is : 43\n",
            "the prime no is : 47\n",
            "the prime no is : 53\n",
            "the prime no is : 59\n",
            "the prime no is : 61\n",
            "the prime no is : 67\n",
            "the prime no is : 71\n",
            "the prime no is : 73\n",
            "the prime no is : 79\n",
            "the prime no is : 83\n",
            "the prime no is : 89\n",
            "the prime no is : 97\n",
            "the prime no is : 101\n",
            "the prime no is : 103\n",
            "the prime no is : 107\n",
            "the prime no is : 109\n",
            "the prime no is : 113\n",
            "the prime no is : 127\n",
            "the prime no is : 131\n",
            "the prime no is : 137\n",
            "the prime no is : 139\n",
            "the prime no is : 149\n",
            "the prime no is : 151\n",
            "the prime no is : 157\n",
            "the prime no is : 163\n",
            "the prime no is : 167\n",
            "the prime no is : 173\n",
            "the prime no is : 179\n",
            "the prime no is : 181\n",
            "the prime no is : 191\n",
            "the prime no is : 193\n",
            "the prime no is : 197\n",
            "the prime no is : 199\n"
          ]
        }
      ]
    },
    {
      "cell_type": "code",
      "source": [
        "#Q5.create an iterater class in python that generates the fibonacci sequence upto specified no of terms\n",
        "def fibonacci_sequence(n):\n",
        "    if n<= 1:\n",
        "      return n\n",
        "    else:\n",
        "      return fibonacci_sequence(n-1) + fibonacci_sequence(n-2)\n",
        "print(fibonacci_sequence(8))\n",
        "\n"
      ],
      "metadata": {
        "colab": {
          "base_uri": "https://localhost:8080/"
        },
        "id": "yVpo682unqCf",
        "outputId": "76d1242c-7b69-495a-ad96-533e76386713"
      },
      "execution_count": null,
      "outputs": [
        {
          "output_type": "stream",
          "name": "stdout",
          "text": [
            "21\n"
          ]
        }
      ]
    },
    {
      "cell_type": "code",
      "source": [
        "#Q6.WRITE A GENERATOR FUNCTION IN PYTHON THAT YELDS THE POWERS OF 2 UPTO A GIVEN EXPONENT\n",
        "def power_of_two_generator(exponent):\n",
        "    if exponent < 0:\n",
        "        raise ValueError(\"Exponent must be a non-negative integer.\")\n",
        "    for i in range(exponent + 1):\n",
        "        yield 2**i\n",
        "\n",
        "for power in power_of_two_generator(5):\n",
        "    print(power)"
      ],
      "metadata": {
        "colab": {
          "base_uri": "https://localhost:8080/"
        },
        "id": "8u4dLXu8uEvA",
        "outputId": "b478053a-aaff-4386-cc69-4c592c66b950"
      },
      "execution_count": null,
      "outputs": [
        {
          "output_type": "stream",
          "name": "stdout",
          "text": [
            "1\n",
            "2\n",
            "4\n",
            "8\n",
            "16\n",
            "32\n"
          ]
        }
      ]
    },
    {
      "cell_type": "code",
      "source": [
        "#Q7.implement a generator function that reads a file line by line and yields each line as a string\n",
        "def read_file_lines(file_path):\n",
        "    with open(file_path, 'r') as file:\n",
        "        for line in file:\n",
        "            yield line.strip()"
      ],
      "metadata": {
        "id": "62ZHADdm1MY_"
      },
      "execution_count": null,
      "outputs": []
    },
    {
      "cell_type": "code",
      "source": [
        "#Q8.use a lambda function in python to short a list of tuples based on the second element of each tuple\n",
        "tuple_list=[(1,4),(3,2),(2,8),(4,3)]\n",
        "shorted_list=sorted(tuple_list,key=lambda i:i[1])\n",
        "print(shorted_list)\n"
      ],
      "metadata": {
        "colab": {
          "base_uri": "https://localhost:8080/"
        },
        "id": "RIJKWlktyfsa",
        "outputId": "f04b6888-3b02-4f88-a3e5-a7cccbd4d12e"
      },
      "execution_count": null,
      "outputs": [
        {
          "output_type": "stream",
          "name": "stdout",
          "text": [
            "[(3, 2), (4, 3), (1, 4), (2, 8)]\n"
          ]
        }
      ]
    },
    {
      "cell_type": "code",
      "source": [
        "#Q9.write a pyhton program that uses 'map()' to convert a list of temperature from celsius to fahrenheit.\n",
        "temp_in_c=[27,30,35,40,70]\n",
        "temp_in_f=list(map(lambda i:(i*9/5)+32,temp_in_c))\n",
        "print(temp_in_f)"
      ],
      "metadata": {
        "colab": {
          "base_uri": "https://localhost:8080/"
        },
        "id": "rKxvtz7czyR_",
        "outputId": "97fd88cc-83f8-41c2-b977-86906ad77fea"
      },
      "execution_count": null,
      "outputs": [
        {
          "output_type": "stream",
          "name": "stdout",
          "text": [
            "[80.6, 86.0, 95.0, 104.0, 158.0]\n"
          ]
        }
      ]
    },
    {
      "cell_type": "code",
      "source": [
        "#Q10.Create a python program that uses'filter()'to remove all the vowels from a given sring\n",
        "a=list(\"Rishi\")\n",
        "def vowel(x):\n",
        "    v=('a','e','i','o','u')\n",
        "    return x in v\n",
        "\n",
        "b=list(filter(vowel,a))\n",
        "print(\"Vowels : \",b)\n",
        "print(\"No of Vowels : \",len(b))"
      ],
      "metadata": {
        "colab": {
          "base_uri": "https://localhost:8080/"
        },
        "id": "IkgQouBh8i6G",
        "outputId": "210bd6b7-da5b-4772-9d5d-5255e06afaec"
      },
      "execution_count": null,
      "outputs": [
        {
          "output_type": "stream",
          "name": "stdout",
          "text": [
            "Vowels :  ['i', 'i']\n",
            "No of Vowels :  2\n"
          ]
        }
      ]
    },
    {
      "cell_type": "code",
      "source": [
        "#Q11.\n",
        "book_list = [\n",
        "    [34587, \"Learning Python, Mark Lutz\", 4, 40.95],\n",
        "    [98762, \"Programming Python, Mark Lutz\", 5, 56.80],\n",
        "    [77226, \"Head First Python, Paul Barry\", 3, 32.95],\n",
        "    [88112, \"Einführung in Python3, Bernd Klein\", 3, 24.99]]\n",
        "\n",
        "\n",
        "result = list(map())\n",
        "\n",
        "print(result)"
      ],
      "metadata": {
        "colab": {
          "base_uri": "https://localhost:8080/",
          "height": 215
        },
        "id": "0IpS5G7rAXw-",
        "outputId": "5ef53d7a-5834-4a80-810d-081b47754dfe"
      },
      "execution_count": null,
      "outputs": [
        {
          "output_type": "error",
          "ename": "TypeError",
          "evalue": "map() must have at least two arguments.",
          "traceback": [
            "\u001b[0;31m---------------------------------------------------------------------------\u001b[0m",
            "\u001b[0;31mTypeError\u001b[0m                                 Traceback (most recent call last)",
            "\u001b[0;32m<ipython-input-41-13c855a841d9>\u001b[0m in \u001b[0;36m<cell line: 0>\u001b[0;34m()\u001b[0m\n\u001b[1;32m      7\u001b[0m \u001b[0;34m\u001b[0m\u001b[0m\n\u001b[1;32m      8\u001b[0m \u001b[0;34m\u001b[0m\u001b[0m\n\u001b[0;32m----> 9\u001b[0;31m \u001b[0mresult\u001b[0m \u001b[0;34m=\u001b[0m \u001b[0mlist\u001b[0m\u001b[0;34m(\u001b[0m\u001b[0mmap\u001b[0m\u001b[0;34m(\u001b[0m\u001b[0;34m)\u001b[0m\u001b[0;34m)\u001b[0m\u001b[0;34m\u001b[0m\u001b[0;34m\u001b[0m\u001b[0m\n\u001b[0m\u001b[1;32m     10\u001b[0m \u001b[0;34m\u001b[0m\u001b[0m\n\u001b[1;32m     11\u001b[0m \u001b[0mprint\u001b[0m\u001b[0;34m(\u001b[0m\u001b[0mresult\u001b[0m\u001b[0;34m)\u001b[0m\u001b[0;34m\u001b[0m\u001b[0;34m\u001b[0m\u001b[0m\n",
            "\u001b[0;31mTypeError\u001b[0m: map() must have at least two arguments."
          ]
        }
      ]
    },
    {
      "cell_type": "code",
      "source": [],
      "metadata": {
        "id": "fatx7ZbMCJ2a"
      },
      "execution_count": null,
      "outputs": []
    }
  ]
}